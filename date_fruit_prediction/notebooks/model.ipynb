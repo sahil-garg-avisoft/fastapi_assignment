{
 "cells": [
  {
   "cell_type": "code",
   "execution_count": 1,
   "metadata": {},
   "outputs": [],
   "source": [
    "import pandas as pd\n",
    "from sklearn.preprocessing import PowerTransformer,MinMaxScaler,FunctionTransformer\n",
    "from sklearn.pipeline import Pipeline\n",
    "from sklearn.ensemble import RandomForestClassifier\n",
    "from sklearn.feature_selection import SelectFromModel\n",
    "from sklearn.model_selection import KFold, RandomizedSearchCV\n",
    "from sklearn.model_selection import train_test_split\n",
    "from sklearn.metrics import roc_auc_score, classification_report\n",
    "from imblearn.over_sampling import SMOTE\n",
    "from sklearn.preprocessing import LabelEncoder\n",
    "import pickle"
   ]
  },
  {
   "cell_type": "code",
   "execution_count": 2,
   "metadata": {},
   "outputs": [],
   "source": [
    "dataframe_date_fruits=pd.read_excel(r\"D:\\datasets2\\Date_Fruit_Datasets\\Date_Fruit_Datasets.xlsx\")"
   ]
  },
  {
   "cell_type": "code",
   "execution_count": 3,
   "metadata": {},
   "outputs": [],
   "source": [
    "Target_feature=dataframe_date_fruits['Class']\n",
    "dataframe_date_fruits_independent_features=dataframe_date_fruits.drop('Class',axis=1)"
   ]
  },
  {
   "cell_type": "code",
   "execution_count": 4,
   "metadata": {},
   "outputs": [
    {
     "data": {
      "text/plain": [
       "0      BERHI\n",
       "1      BERHI\n",
       "2      BERHI\n",
       "3      BERHI\n",
       "4      BERHI\n",
       "       ...  \n",
       "893    SOGAY\n",
       "894    SOGAY\n",
       "895    SOGAY\n",
       "896    SOGAY\n",
       "897    SOGAY\n",
       "Name: Class, Length: 898, dtype: object"
      ]
     },
     "execution_count": 4,
     "metadata": {},
     "output_type": "execute_result"
    }
   ],
   "source": [
    "Target_feature"
   ]
  },
  {
   "cell_type": "code",
   "execution_count": 5,
   "metadata": {},
   "outputs": [
    {
     "data": {
      "text/plain": [
       "Class\n",
       "DOKOL     204\n",
       "SAFAVI    199\n",
       "ROTANA    166\n",
       "DEGLET     98\n",
       "SOGAY      94\n",
       "IRAQI      72\n",
       "BERHI      65\n",
       "Name: count, dtype: int64"
      ]
     },
     "execution_count": 5,
     "metadata": {},
     "output_type": "execute_result"
    }
   ],
   "source": [
    "Target_feature.value_counts()"
   ]
  },
  {
   "cell_type": "code",
   "execution_count": 6,
   "metadata": {},
   "outputs": [],
   "source": [
    "encoder=LabelEncoder()\n",
    "Target_feature=encoder.fit_transform(Target_feature)"
   ]
  },
  {
   "cell_type": "code",
   "execution_count": 7,
   "metadata": {},
   "outputs": [
    {
     "data": {
      "text/plain": [
       "{0: 'BERHI',\n",
       " 1: 'DEGLET',\n",
       " 2: 'DOKOL',\n",
       " 3: 'IRAQI',\n",
       " 4: 'ROTANA',\n",
       " 5: 'SAFAVI',\n",
       " 6: 'SOGAY'}"
      ]
     },
     "execution_count": 7,
     "metadata": {},
     "output_type": "execute_result"
    }
   ],
   "source": [
    "label_map = dict(zip(range(len(encoder.classes_)), encoder.classes_))\n",
    "label_map"
   ]
  },
  {
   "cell_type": "code",
   "execution_count": 8,
   "metadata": {},
   "outputs": [
    {
     "name": "stdout",
     "output_type": "stream",
     "text": [
      "Counter({2: 204, 5: 199, 4: 166, 1: 98, 6: 94, 3: 72, 0: 65})\n"
     ]
    }
   ],
   "source": [
    "from collections import Counter\n",
    "print(Counter(Target_feature))"
   ]
  },
  {
   "cell_type": "code",
   "execution_count": 9,
   "metadata": {},
   "outputs": [],
   "source": [
    "def Multicollinearity_removing(dataset,threshold):\n",
    "    col_corr=set()\n",
    "    corr_matrix=dataset.corr()\n",
    "    for i in range(len(corr_matrix.columns)):\n",
    "        for j in range(i):\n",
    "            if (corr_matrix.iloc[i,j]) >threshold:\n",
    "                colname=corr_matrix.columns[i]\n",
    "                col_corr.add(colname)\n",
    "    return col_corr"
   ]
  },
  {
   "cell_type": "code",
   "execution_count": 10,
   "metadata": {},
   "outputs": [
    {
     "data": {
      "text/html": [
       "<div>\n",
       "<style scoped>\n",
       "    .dataframe tbody tr th:only-of-type {\n",
       "        vertical-align: middle;\n",
       "    }\n",
       "\n",
       "    .dataframe tbody tr th {\n",
       "        vertical-align: top;\n",
       "    }\n",
       "\n",
       "    .dataframe thead th {\n",
       "        text-align: right;\n",
       "    }\n",
       "</style>\n",
       "<table border=\"1\" class=\"dataframe\">\n",
       "  <thead>\n",
       "    <tr style=\"text-align: right;\">\n",
       "      <th></th>\n",
       "      <th>AREA</th>\n",
       "      <th>ECCENTRICITY</th>\n",
       "      <th>SOLIDITY</th>\n",
       "      <th>EXTENT</th>\n",
       "      <th>ASPECT_RATIO</th>\n",
       "      <th>ROUNDNESS</th>\n",
       "      <th>SHAPEFACTOR_2</th>\n",
       "      <th>MeanRR</th>\n",
       "      <th>SkewRR</th>\n",
       "      <th>EntropyRR</th>\n",
       "    </tr>\n",
       "  </thead>\n",
       "  <tbody>\n",
       "    <tr>\n",
       "      <th>0</th>\n",
       "      <td>422163</td>\n",
       "      <td>0.6373</td>\n",
       "      <td>0.9947</td>\n",
       "      <td>0.7831</td>\n",
       "      <td>1.2976</td>\n",
       "      <td>0.9374</td>\n",
       "      <td>0.0015</td>\n",
       "      <td>117.4466</td>\n",
       "      <td>-0.5661</td>\n",
       "      <td>-59191263232</td>\n",
       "    </tr>\n",
       "    <tr>\n",
       "      <th>1</th>\n",
       "      <td>338136</td>\n",
       "      <td>0.5690</td>\n",
       "      <td>0.9974</td>\n",
       "      <td>0.7795</td>\n",
       "      <td>1.2161</td>\n",
       "      <td>0.9773</td>\n",
       "      <td>0.0018</td>\n",
       "      <td>100.0578</td>\n",
       "      <td>-0.2328</td>\n",
       "      <td>-34233065472</td>\n",
       "    </tr>\n",
       "    <tr>\n",
       "      <th>2</th>\n",
       "      <td>526843</td>\n",
       "      <td>0.6494</td>\n",
       "      <td>0.9962</td>\n",
       "      <td>0.7657</td>\n",
       "      <td>1.3150</td>\n",
       "      <td>0.9446</td>\n",
       "      <td>0.0014</td>\n",
       "      <td>130.9558</td>\n",
       "      <td>-0.7152</td>\n",
       "      <td>-93948354560</td>\n",
       "    </tr>\n",
       "    <tr>\n",
       "      <th>3</th>\n",
       "      <td>416063</td>\n",
       "      <td>0.6266</td>\n",
       "      <td>0.9948</td>\n",
       "      <td>0.7759</td>\n",
       "      <td>1.2831</td>\n",
       "      <td>0.9458</td>\n",
       "      <td>0.0016</td>\n",
       "      <td>86.7798</td>\n",
       "      <td>0.4584</td>\n",
       "      <td>-32074307584</td>\n",
       "    </tr>\n",
       "    <tr>\n",
       "      <th>4</th>\n",
       "      <td>347562</td>\n",
       "      <td>0.6465</td>\n",
       "      <td>0.9908</td>\n",
       "      <td>0.7569</td>\n",
       "      <td>1.3108</td>\n",
       "      <td>0.9358</td>\n",
       "      <td>0.0017</td>\n",
       "      <td>105.5484</td>\n",
       "      <td>-0.3552</td>\n",
       "      <td>-39980974080</td>\n",
       "    </tr>\n",
       "    <tr>\n",
       "      <th>...</th>\n",
       "      <td>...</td>\n",
       "      <td>...</td>\n",
       "      <td>...</td>\n",
       "      <td>...</td>\n",
       "      <td>...</td>\n",
       "      <td>...</td>\n",
       "      <td>...</td>\n",
       "      <td>...</td>\n",
       "      <td>...</td>\n",
       "      <td>...</td>\n",
       "    </tr>\n",
       "    <tr>\n",
       "      <th>893</th>\n",
       "      <td>255403</td>\n",
       "      <td>0.7241</td>\n",
       "      <td>0.9785</td>\n",
       "      <td>0.7269</td>\n",
       "      <td>1.4499</td>\n",
       "      <td>0.8658</td>\n",
       "      <td>0.0019</td>\n",
       "      <td>98.1696</td>\n",
       "      <td>-0.2737</td>\n",
       "      <td>-25296416768</td>\n",
       "    </tr>\n",
       "    <tr>\n",
       "      <th>894</th>\n",
       "      <td>365924</td>\n",
       "      <td>0.7644</td>\n",
       "      <td>0.9466</td>\n",
       "      <td>0.6695</td>\n",
       "      <td>1.5510</td>\n",
       "      <td>0.6475</td>\n",
       "      <td>0.0015</td>\n",
       "      <td>93.6238</td>\n",
       "      <td>-0.3319</td>\n",
       "      <td>-31605219328</td>\n",
       "    </tr>\n",
       "    <tr>\n",
       "      <th>895</th>\n",
       "      <td>254330</td>\n",
       "      <td>0.8126</td>\n",
       "      <td>0.9925</td>\n",
       "      <td>0.7240</td>\n",
       "      <td>1.7159</td>\n",
       "      <td>0.8609</td>\n",
       "      <td>0.0017</td>\n",
       "      <td>88.2526</td>\n",
       "      <td>0.1838</td>\n",
       "      <td>-22242772992</td>\n",
       "    </tr>\n",
       "    <tr>\n",
       "      <th>896</th>\n",
       "      <td>238955</td>\n",
       "      <td>0.7873</td>\n",
       "      <td>0.9604</td>\n",
       "      <td>0.6954</td>\n",
       "      <td>1.6220</td>\n",
       "      <td>0.8263</td>\n",
       "      <td>0.0018</td>\n",
       "      <td>102.4622</td>\n",
       "      <td>0.3400</td>\n",
       "      <td>-26048595968</td>\n",
       "    </tr>\n",
       "    <tr>\n",
       "      <th>897</th>\n",
       "      <td>343792</td>\n",
       "      <td>0.7607</td>\n",
       "      <td>0.9781</td>\n",
       "      <td>0.6941</td>\n",
       "      <td>1.5405</td>\n",
       "      <td>0.8243</td>\n",
       "      <td>0.0016</td>\n",
       "      <td>94.6863</td>\n",
       "      <td>0.3382</td>\n",
       "      <td>-31983476736</td>\n",
       "    </tr>\n",
       "  </tbody>\n",
       "</table>\n",
       "<p>898 rows × 10 columns</p>\n",
       "</div>"
      ],
      "text/plain": [
       "       AREA  ECCENTRICITY  SOLIDITY  EXTENT  ASPECT_RATIO  ROUNDNESS  \\\n",
       "0    422163        0.6373    0.9947  0.7831        1.2976     0.9374   \n",
       "1    338136        0.5690    0.9974  0.7795        1.2161     0.9773   \n",
       "2    526843        0.6494    0.9962  0.7657        1.3150     0.9446   \n",
       "3    416063        0.6266    0.9948  0.7759        1.2831     0.9458   \n",
       "4    347562        0.6465    0.9908  0.7569        1.3108     0.9358   \n",
       "..      ...           ...       ...     ...           ...        ...   \n",
       "893  255403        0.7241    0.9785  0.7269        1.4499     0.8658   \n",
       "894  365924        0.7644    0.9466  0.6695        1.5510     0.6475   \n",
       "895  254330        0.8126    0.9925  0.7240        1.7159     0.8609   \n",
       "896  238955        0.7873    0.9604  0.6954        1.6220     0.8263   \n",
       "897  343792        0.7607    0.9781  0.6941        1.5405     0.8243   \n",
       "\n",
       "     SHAPEFACTOR_2    MeanRR  SkewRR    EntropyRR  \n",
       "0           0.0015  117.4466 -0.5661 -59191263232  \n",
       "1           0.0018  100.0578 -0.2328 -34233065472  \n",
       "2           0.0014  130.9558 -0.7152 -93948354560  \n",
       "3           0.0016   86.7798  0.4584 -32074307584  \n",
       "4           0.0017  105.5484 -0.3552 -39980974080  \n",
       "..             ...       ...     ...          ...  \n",
       "893         0.0019   98.1696 -0.2737 -25296416768  \n",
       "894         0.0015   93.6238 -0.3319 -31605219328  \n",
       "895         0.0017   88.2526  0.1838 -22242772992  \n",
       "896         0.0018  102.4622  0.3400 -26048595968  \n",
       "897         0.0016   94.6863  0.3382 -31983476736  \n",
       "\n",
       "[898 rows x 10 columns]"
      ]
     },
     "execution_count": 10,
     "metadata": {},
     "output_type": "execute_result"
    }
   ],
   "source": [
    "corr_features=Multicollinearity_removing(dataframe_date_fruits_independent_features,0.7)\n",
    "dataframe_date_fruits_after_removing_Multicollinearity=dataframe_date_fruits_independent_features.drop(corr_features,axis=1)\n",
    "dataframe_date_fruits_after_removing_Multicollinearity"
   ]
  },
  {
   "cell_type": "code",
   "execution_count": 11,
   "metadata": {},
   "outputs": [
    {
     "name": "stdout",
     "output_type": "stream",
     "text": [
      "['AREA', 'SHAPEFACTOR_2', 'MeanRR', 'EntropyRR']\n",
      "[0.19766873 0.05549838 0.05501876 0.0321474  0.05939938 0.08801203\n",
      " 0.12904975 0.15297646 0.07686728 0.15336183]\n"
     ]
    }
   ],
   "source": [
    "select=SelectFromModel(RandomForestClassifier(n_estimators=100,random_state=0))\n",
    "select.fit(dataframe_date_fruits_after_removing_Multicollinearity,Target_feature)\n",
    "\n",
    "support=select.get_support()\n",
    "\n",
    "dataframe_date_fruits_after_features_engineering=dataframe_date_fruits_after_removing_Multicollinearity.loc[:,support].columns.tolist()\n",
    "\n",
    "print(dataframe_date_fruits_after_features_engineering)\n",
    "\n",
    "print(RandomForestClassifier(n_estimators=100,random_state=0).fit(dataframe_date_fruits_after_removing_Multicollinearity,Target_feature).feature_importances_)"
   ]
  },
  {
   "cell_type": "code",
   "execution_count": 12,
   "metadata": {},
   "outputs": [
    {
     "data": {
      "text/html": [
       "<div>\n",
       "<style scoped>\n",
       "    .dataframe tbody tr th:only-of-type {\n",
       "        vertical-align: middle;\n",
       "    }\n",
       "\n",
       "    .dataframe tbody tr th {\n",
       "        vertical-align: top;\n",
       "    }\n",
       "\n",
       "    .dataframe thead th {\n",
       "        text-align: right;\n",
       "    }\n",
       "</style>\n",
       "<table border=\"1\" class=\"dataframe\">\n",
       "  <thead>\n",
       "    <tr style=\"text-align: right;\">\n",
       "      <th></th>\n",
       "      <th>AREA</th>\n",
       "      <th>SHAPEFACTOR_2</th>\n",
       "      <th>MeanRR</th>\n",
       "      <th>EntropyRR</th>\n",
       "    </tr>\n",
       "  </thead>\n",
       "  <tbody>\n",
       "    <tr>\n",
       "      <th>0</th>\n",
       "      <td>422163</td>\n",
       "      <td>0.0015</td>\n",
       "      <td>117.4466</td>\n",
       "      <td>-59191263232</td>\n",
       "    </tr>\n",
       "    <tr>\n",
       "      <th>1</th>\n",
       "      <td>338136</td>\n",
       "      <td>0.0018</td>\n",
       "      <td>100.0578</td>\n",
       "      <td>-34233065472</td>\n",
       "    </tr>\n",
       "    <tr>\n",
       "      <th>2</th>\n",
       "      <td>526843</td>\n",
       "      <td>0.0014</td>\n",
       "      <td>130.9558</td>\n",
       "      <td>-93948354560</td>\n",
       "    </tr>\n",
       "    <tr>\n",
       "      <th>3</th>\n",
       "      <td>416063</td>\n",
       "      <td>0.0016</td>\n",
       "      <td>86.7798</td>\n",
       "      <td>-32074307584</td>\n",
       "    </tr>\n",
       "    <tr>\n",
       "      <th>4</th>\n",
       "      <td>347562</td>\n",
       "      <td>0.0017</td>\n",
       "      <td>105.5484</td>\n",
       "      <td>-39980974080</td>\n",
       "    </tr>\n",
       "    <tr>\n",
       "      <th>...</th>\n",
       "      <td>...</td>\n",
       "      <td>...</td>\n",
       "      <td>...</td>\n",
       "      <td>...</td>\n",
       "    </tr>\n",
       "    <tr>\n",
       "      <th>893</th>\n",
       "      <td>255403</td>\n",
       "      <td>0.0019</td>\n",
       "      <td>98.1696</td>\n",
       "      <td>-25296416768</td>\n",
       "    </tr>\n",
       "    <tr>\n",
       "      <th>894</th>\n",
       "      <td>365924</td>\n",
       "      <td>0.0015</td>\n",
       "      <td>93.6238</td>\n",
       "      <td>-31605219328</td>\n",
       "    </tr>\n",
       "    <tr>\n",
       "      <th>895</th>\n",
       "      <td>254330</td>\n",
       "      <td>0.0017</td>\n",
       "      <td>88.2526</td>\n",
       "      <td>-22242772992</td>\n",
       "    </tr>\n",
       "    <tr>\n",
       "      <th>896</th>\n",
       "      <td>238955</td>\n",
       "      <td>0.0018</td>\n",
       "      <td>102.4622</td>\n",
       "      <td>-26048595968</td>\n",
       "    </tr>\n",
       "    <tr>\n",
       "      <th>897</th>\n",
       "      <td>343792</td>\n",
       "      <td>0.0016</td>\n",
       "      <td>94.6863</td>\n",
       "      <td>-31983476736</td>\n",
       "    </tr>\n",
       "  </tbody>\n",
       "</table>\n",
       "<p>898 rows × 4 columns</p>\n",
       "</div>"
      ],
      "text/plain": [
       "       AREA  SHAPEFACTOR_2    MeanRR    EntropyRR\n",
       "0    422163         0.0015  117.4466 -59191263232\n",
       "1    338136         0.0018  100.0578 -34233065472\n",
       "2    526843         0.0014  130.9558 -93948354560\n",
       "3    416063         0.0016   86.7798 -32074307584\n",
       "4    347562         0.0017  105.5484 -39980974080\n",
       "..      ...            ...       ...          ...\n",
       "893  255403         0.0019   98.1696 -25296416768\n",
       "894  365924         0.0015   93.6238 -31605219328\n",
       "895  254330         0.0017   88.2526 -22242772992\n",
       "896  238955         0.0018  102.4622 -26048595968\n",
       "897  343792         0.0016   94.6863 -31983476736\n",
       "\n",
       "[898 rows x 4 columns]"
      ]
     },
     "execution_count": 12,
     "metadata": {},
     "output_type": "execute_result"
    }
   ],
   "source": [
    "dataframe_date_fruits_after_features_engineering=dataframe_date_fruits_after_removing_Multicollinearity.loc[:,support]\n",
    "dataframe_date_fruits_after_features_engineering"
   ]
  },
  {
   "cell_type": "code",
   "execution_count": 13,
   "metadata": {},
   "outputs": [],
   "source": [
    "normalizer = PowerTransformer(method='box-cox')\n",
    "scaler = MinMaxScaler(feature_range=(1, 2))\n",
    "#outlier_removal = FunctionTransformer(lambda x : x[(np.abs(stats.zscore(x)) < 3)])\n",
    "smote = SMOTE(random_state=42)\n",
    "dataframe_date_fruits_after_features_engineering, Target_feature = smote.fit_resample(dataframe_date_fruits_after_features_engineering, Target_feature)\n",
    "prepr_pipe = Pipeline([\n",
    "                 ('scaler', scaler), \n",
    "                 ('normalizer', normalizer),\n",
    "                ])"
   ]
  },
  {
   "cell_type": "code",
   "execution_count": 14,
   "metadata": {},
   "outputs": [
    {
     "name": "stdout",
     "output_type": "stream",
     "text": [
      "(1428, 4)\n",
      "Counter({0: 204, 1: 204, 2: 204, 3: 204, 4: 204, 5: 204, 6: 204})\n"
     ]
    }
   ],
   "source": [
    "print(dataframe_date_fruits_after_features_engineering.shape)\n",
    "print(Counter(Target_feature))"
   ]
  },
  {
   "cell_type": "code",
   "execution_count": 15,
   "metadata": {},
   "outputs": [
    {
     "data": {
      "text/plain": [
       "array([[ 1.02625177, -0.7658461 ,  0.53322739, -1.3166026 ],\n",
       "       [ 0.11635   ,  0.51485764, -0.14397902, -0.12197684],\n",
       "       [ 2.32349766, -1.40130096,  1.11694194, -2.39173035],\n",
       "       ...,\n",
       "       [-0.53482266,  0.0593582 ,  1.00681257, -0.78730026],\n",
       "       [-0.40579438,  0.16161616, -0.22227718,  0.24183819],\n",
       "       [-0.83629096,  1.03452686, -0.42437408,  0.67162354]])"
      ]
     },
     "execution_count": 15,
     "metadata": {},
     "output_type": "execute_result"
    }
   ],
   "source": [
    "prepr_pipe.fit_transform(dataframe_date_fruits_after_features_engineering)"
   ]
  },
  {
   "cell_type": "code",
   "execution_count": 16,
   "metadata": {},
   "outputs": [],
   "source": [
    "with open('pipeline.pkl', 'wb') as file:\n",
    "    pickle.dump(prepr_pipe, file)"
   ]
  },
  {
   "cell_type": "code",
   "execution_count": 17,
   "metadata": {},
   "outputs": [],
   "source": [
    "X_train,X_test,y_train,y_test =train_test_split(dataframe_date_fruits_after_features_engineering,Target_feature,random_state=42,test_size=0.3,stratify=Target_feature)"
   ]
  },
  {
   "cell_type": "code",
   "execution_count": 18,
   "metadata": {},
   "outputs": [],
   "source": [
    "def train_cv(model, X_train, y_train, params, n_splits=10):\n",
    "    kf = KFold(n_splits=n_splits, random_state=0, shuffle=True)\n",
    "\n",
    "    cv = RandomizedSearchCV(model,\n",
    "                            params,\n",
    "                            cv=kf,\n",
    "                            scoring='roc_auc',\n",
    "                            return_train_score=True,\n",
    "                            n_jobs=-1,\n",
    "                            verbose=True,\n",
    "                            random_state=1\n",
    "                            )\n",
    "    cv.fit(X_train, y_train)\n",
    "\n",
    "    print('Best params', cv.best_params_)\n",
    "    return cv"
   ]
  },
  {
   "cell_type": "code",
   "execution_count": 19,
   "metadata": {},
   "outputs": [
    {
     "name": "stdout",
     "output_type": "stream",
     "text": [
      "Fitting 10 folds for each of 10 candidates, totalling 100 fits\n"
     ]
    },
    {
     "name": "stderr",
     "output_type": "stream",
     "text": [
      "C:\\Users\\DELL\\AppData\\Roaming\\Python\\Python311\\site-packages\\sklearn\\model_selection\\_search.py:979: UserWarning: One or more of the test scores are non-finite: [nan nan nan nan nan nan nan nan nan nan]\n",
      "  warnings.warn(\n",
      "C:\\Users\\DELL\\AppData\\Roaming\\Python\\Python311\\site-packages\\sklearn\\model_selection\\_search.py:979: UserWarning: One or more of the train scores are non-finite: [nan nan nan nan nan nan nan nan nan nan]\n",
      "  warnings.warn(\n"
     ]
    },
    {
     "name": "stdout",
     "output_type": "stream",
     "text": [
      "Best params {'n_estimators': 60, 'min_samples_split': 5, 'min_samples_leaf': 3, 'max_depth': 3, 'criterion': 'gini'}\n"
     ]
    }
   ],
   "source": [
    "kf = KFold(n_splits=10, random_state=0, shuffle=True)\n",
    "rs_parameters = {\n",
    "    'n_estimators': [10,20,30,40,50,60,70,80,90,100],\n",
    "    'criterion': ['gini', 'entropy'],\n",
    "    'max_depth': [2,3,4,5,6,7,8,9,10,11,12,13,14,15,16,17,18,19,20],\n",
    "    'min_samples_split': (2,3,4,5),\n",
    "    'min_samples_leaf': [1, 2, 3]\n",
    "}\n",
    "\n",
    "# Corrected the model instantiation\n",
    "rf = RandomForestClassifier(random_state=0, n_jobs=-1)\n",
    "\n",
    "model_cv_rf = train_cv(rf, X_train, y_train, rs_parameters)\n",
    "best_estimator_rf = model_cv_rf.best_estimator_"
   ]
  },
  {
   "cell_type": "code",
   "execution_count": 20,
   "metadata": {},
   "outputs": [],
   "source": [
    "ypred = best_estimator_rf.predict(X_test)\n",
    "ypred_proba = best_estimator_rf.predict_proba(X_test)"
   ]
  },
  {
   "cell_type": "code",
   "execution_count": 21,
   "metadata": {},
   "outputs": [],
   "source": [
    "with open('model_random_forest.pkl', 'wb') as file:\n",
    "    pickle.dump(best_estimator_rf, file)"
   ]
  },
  {
   "cell_type": "code",
   "execution_count": 22,
   "metadata": {},
   "outputs": [
    {
     "name": "stdout",
     "output_type": "stream",
     "text": [
      "0.9449136091590136\n",
      "              precision    recall  f1-score   support\n",
      "\n",
      "           0       0.68      0.28      0.40        61\n",
      "           1       0.57      0.77      0.66        61\n",
      "           2       0.89      0.93      0.91        61\n",
      "           3       0.67      0.97      0.79        62\n",
      "           4       0.75      0.74      0.74        61\n",
      "           5       0.98      0.92      0.95        61\n",
      "           6       0.65      0.55      0.60        62\n",
      "\n",
      "    accuracy                           0.74       429\n",
      "   macro avg       0.74      0.74      0.72       429\n",
      "weighted avg       0.74      0.74      0.72       429\n",
      "\n"
     ]
    }
   ],
   "source": [
    "print(roc_auc_score(y_test, ypred_proba, multi_class='ovr'))\n",
    "print(classification_report(y_test, ypred))"
   ]
  },
  {
   "cell_type": "code",
   "execution_count": null,
   "metadata": {},
   "outputs": [],
   "source": [
    "git init\n",
    "git add README.md\n",
    "git commit -m \"first commit\"\n",
    "git branch -M main\n",
    "git remote add origin https://github.com/sahilgarg2814/fastapi_assignment.git\n",
    "git push -u origin main"
   ]
  }
 ],
 "metadata": {
  "kernelspec": {
   "display_name": "base",
   "language": "python",
   "name": "python3"
  },
  "language_info": {
   "codemirror_mode": {
    "name": "ipython",
    "version": 3
   },
   "file_extension": ".py",
   "mimetype": "text/x-python",
   "name": "python",
   "nbconvert_exporter": "python",
   "pygments_lexer": "ipython3",
   "version": "3.11.7"
  }
 },
 "nbformat": 4,
 "nbformat_minor": 2
}
